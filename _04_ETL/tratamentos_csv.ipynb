{
 "cells": [
  {
   "cell_type": "code",
   "execution_count": null,
   "id": "f20835d2",
   "metadata": {},
   "outputs": [],
   "source": [
    "import pandas as pd\n",
    "import os\n",
    "import sys\n",
    "from pathlib import Path  # Melhor forma para trabalhar com caminhos\n",
    "from unidecode import unidecode\n"
   ]
  },
  {
   "cell_type": "markdown",
   "id": "e7c82e65",
   "metadata": {},
   "source": [
    "### Convertendo xlsx para csv\n"
   ]
  },
  {
   "cell_type": "code",
   "execution_count": null,
   "id": "f09eb8cb",
   "metadata": {},
   "outputs": [],
   "source": [
    "pasta_origem = r'E:\\PYTHON\\PROJETOS_PESSOAIS\\analise_weg\\_02_DATASETS\\datasets_original'\n",
    "pasta_destino = r\"E:\\PYTHON\\PROJETOS_PESSOAIS\\analise_weg\\_03_ANALISE_EXPLORATORIA\\_03_02_analises_01\"\n",
    "\n",
    "for arquivo in os.listdir(pasta_origem):\n",
    "    if arquivo.endswith('.xlsx'):\n",
    "        entrada = os.path.join(pasta_origem, arquivo)\n",
    "        saida = os.path.join(pasta_destino, arquivo.replace('.xlsx', '.csv'))\n",
    "        try:\n",
    "            df = pd.read_excel(entrada, header=1, engine='openpyxl')\n",
    "            df.to_csv(saida, index=False)\n",
    "            print(f\"Convertido: {arquivo}\")\n",
    "        except Exception as e:\n",
    "            print(f\"Erro ao converter {arquivo}: {e}\")\n"
   ]
  },
  {
   "cell_type": "markdown",
   "id": "e84f5cba",
   "metadata": {},
   "source": [
    "### Pivotando arquivos CSV"
   ]
  },
  {
   "cell_type": "code",
   "execution_count": null,
   "id": "9b34770a",
   "metadata": {},
   "outputs": [],
   "source": [
    "\n",
    "\n",
    "def process_files(input_folder, output_folder):\n",
    "    \"\"\"Processa todos os arquivos CSV na pasta de entrada e salva na pasta de saída\"\"\"\n",
    "    # Garante que a pasta de saída existe\n",
    "    Path(output_folder).mkdir(parents=True, exist_ok=True)\n",
    "    \n",
    "\n",
    "    for arquivo in os.listdir(input_folder):\n",
    "        if arquivo.endswith('.csv') or arquivo.endswith('.xlsx'):\n",
    "            try:\n",
    "                nome = os.path.splitext(arquivo)[0]\n",
    "                file_path = os.path.join(input_folder, arquivo)\n",
    "                #trasnformar arquivo para csv e retirar a prima linha\n",
    "                if arquivo.endswith('.xlsx'):\n",
    "                    df = pd.read_excel(file_path, header=1)\n",
    "                    #cria um  nome temporário para o CSV\n",
    "                    temp_csv_path = os.path.join(input_folder, f\"temp_{nome}.csv\")\n",
    "                    df.to_csv(temp_csv_path, index=False, encoding='utf-8')\n",
    "                    file_path = temp_csv_path\n",
    "                # Ler o CSV\n",
    "                df = pd.read_csv(file_path, encoding='utf-8')\n",
    "                \n",
    "                # Transformar de wide para long\n",
    "                df_long = df.melt(\n",
    "                    id_vars=['Código da Conta','Descrição da Conta'],\n",
    "                    var_name='data',\n",
    "                    value_name='valor'\n",
    "                )\n",
    "           \n",
    "                # Tratamento de nulos\n",
    "                df_long = df_long.assign(valor =lambda x: x['valor'].fillna(0))\n",
    "                                        \n",
    "                # Ordenação\n",
    "                df_long = df_long.sort_values(['Código da Conta','data'])\n",
    "                \n",
    "                # Salvar arquivo processado\n",
    "                output_file = f\"{nome}_rotacionado.csv\"\n",
    "                output_path = os.path.join(output_folder, output_file)\n",
    "                df_long.to_csv(output_path, index=False, encoding='utf-8')\n",
    "                \n",
    "                print(f\"Arquivo {arquivo} processado com sucesso! Salvo como {output_file}\")\n",
    "                print(df_long.head())\n",
    "                \n",
    "            except Exception as e:\n",
    "                print(f\"Erro ao processar o arquivo {arquivo}: {str(e)}\")\n",
    "\n",
    "# Configuração dos caminhos (usando Path para compatibilidade entre sistemas)\n",
    "base_dir = Path(r\"E:\\PYTHON\\PROJETOS_PESSOAIS\\analise_weg\")\n",
    "input_folder = base_dir / \"_03_ANALISE_EXPLORATORIA\\_03_02_analises_01\"\n",
    "output_folder = base_dir / \"_04_ETL/_04_01_datasets_pivotados\"\n",
    "\n",
    "# Executar o processamento\n",
    "process_files(input_folder, output_folder)"
   ]
  },
  {
   "cell_type": "code",
   "execution_count": null,
   "id": "87eb63a8",
   "metadata": {},
   "outputs": [],
   "source": [
    "df = pd.read_csv(r\"E:\\PYTHON\\PROJETOS_PESSOAIS\\analise_weg\\_04_ETL\\_04_01_datasets_pivotados\\Balanço Patrimonial (BP)_rotacionado.csv\")"
   ]
  },
  {
   "cell_type": "code",
   "execution_count": null,
   "id": "059006eb",
   "metadata": {},
   "outputs": [],
   "source": [
    "df.head(100)  # Exibir as primeiras linhas do DataFrame para verificação"
   ]
  },
  {
   "cell_type": "markdown",
   "id": "8deee1c0",
   "metadata": {},
   "source": [
    "### Alterar cabeçalhos para maiúsculas e substituir espaços por underline"
   ]
  },
  {
   "cell_type": "code",
   "execution_count": null,
   "id": "723c2ae4",
   "metadata": {},
   "outputs": [],
   "source": [
    "pasta_origem = r'E:\\PYTHON\\PROJETOS_PESSOAIS\\analise_weg\\_04_ETL\\datasets_pivotados'\n",
    "pasta_destino = r\"E:\\PYTHON\\PROJETOS_PESSOAIS\\analise_weg\\_04_ETL\\_04_01_dataset_tratado\"\n",
    "\n",
    "for arquivo in os.listdir(pasta_origem):\n",
    "    if arquivo.endswith('.csv'):\n",
    "        entrada = os.path.join(pasta_origem, arquivo)\n",
    "        saida = os.path.join(pasta_destino, arquivo)\n",
    "        try:\n",
    "            df = pd.read_csv(entrada, encoding='utf-8')\n",
    "            df.columns = [unidecode(str(col)).upper().replace(' ', '_') for col in df.columns]\n",
    "            df.to_csv(saida, index=False)\n",
    "            print(f\"Convertido: {arquivo}\")\n",
    "        except Exception as e:\n",
    "            print(f\"Erro ao converter {arquivo}: {e}\")"
   ]
  },
  {
   "cell_type": "markdown",
   "id": "064ced4d",
   "metadata": {},
   "source": [
    "#### DEIXAR TUDO SEM ACENTO E CAIXA ALTA"
   ]
  },
  {
   "cell_type": "code",
   "execution_count": null,
   "id": "00cb81de",
   "metadata": {},
   "outputs": [
    {
     "name": "stdout",
     "output_type": "stream",
     "text": [
      "Convertido: Balanço Patrimonial (BP)_rotacionado.csv\n",
      "Convertido: Demonstração de Fluxo de Caixa (DFC)_rotacionado.csv\n",
      "Convertido: Demonstração de Resultados (DRE)_rotacionado.csv\n"
     ]
    }
   ],
   "source": [
    "pasta_origem = r'E:\\PYTHON\\PROJETOS_PESSOAIS\\analise_weg\\_04_ETL\\datasets_pivotados'\n",
    "pasta_destino = r\"E:\\PYTHON\\PROJETOS_PESSOAIS\\analise_weg\\_04_ETL\\_04_02_dataset_tratado\"\n",
    "\n",
    "for arquivo in os.listdir(pasta_origem):\n",
    "    if arquivo.endswith('.csv'):\n",
    "        entrada = os.path.join(pasta_origem, arquivo)\n",
    "        saida = os.path.join(pasta_destino, arquivo)\n",
    "        try:\n",
    "            df = pd.read_csv(entrada, encoding='utf-8')\n",
    "\n",
    "            # Normaliza os nomes das colunas para maiúsculas e sem acentos\n",
    "            df.columns = [unidecode(str(col).upper()) for col in df.columns]\n",
    "            df = df.dropna()\n",
    "\n",
    "            # Converte todos os valores de string para maiúsculas e sem acentos\n",
    "            for col in df.select_dtypes(include='object').columns:\n",
    "                df[col] = df[col].apply(\n",
    "                    lambda val: unidecode(str(val).strip().upper()) if pd.notnull(val) else val\n",
    "                )\n",
    "\n",
    "            df.to_csv(saida, index=False, encoding='utf-8')\n",
    "            print(f\"Convertido: {arquivo}\")\n",
    "        except Exception as e:\n",
    "            print(f\"Erro ao converter {arquivo}: {e}\")"
   ]
  }
 ],
 "metadata": {
  "kernelspec": {
   "display_name": ".venv_windows",
   "language": "python",
   "name": "python3"
  },
  "language_info": {
   "codemirror_mode": {
    "name": "ipython",
    "version": 3
   },
   "file_extension": ".py",
   "mimetype": "text/x-python",
   "name": "python",
   "nbconvert_exporter": "python",
   "pygments_lexer": "ipython3",
   "version": "3.12.10"
  }
 },
 "nbformat": 4,
 "nbformat_minor": 5
}
