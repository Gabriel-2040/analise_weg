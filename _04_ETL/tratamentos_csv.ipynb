{
 "cells": [
  {
   "cell_type": "code",
   "execution_count": null,
   "id": "f20835d2",
   "metadata": {},
   "outputs": [],
   "source": [
    "import pandas as pd\n",
    "import os\n",
    "import sys\n",
    "from pathlib import Path  # Melhor forma para trabalhar com caminhos\n",
    "from unidecode import unidecode\n"
   ]
  },
  {
   "cell_type": "markdown",
   "id": "e7c82e65",
   "metadata": {},
   "source": [
    "### Convertendo xlsx para csv\n"
   ]
  },
  {
   "cell_type": "code",
   "execution_count": null,
   "id": "f09eb8cb",
   "metadata": {},
   "outputs": [],
   "source": [
    "pasta_origem = r'E:\\PYTHON\\PROJETOS_PESSOAIS\\analise_weg\\_02_DATASETS\\datasets_original'\n",
    "pasta_destino = r\"E:\\PYTHON\\PROJETOS_PESSOAIS\\analise_weg\\_03_ANALISE_EXPLORATORIA\\_03_02_analises_01\"\n",
    "\n",
    "for arquivo in os.listdir(pasta_origem):\n",
    "    if arquivo.endswith('.xlsx'):\n",
    "        entrada = os.path.join(pasta_origem, arquivo)\n",
    "        saida = os.path.join(pasta_destino, arquivo.replace('.xlsx', '.csv'))\n",
    "        try:\n",
    "            df = pd.read_excel(entrada, header=1, engine='openpyxl')\n",
    "            df.to_csv(saida, index=False)\n",
    "            print(f\"Convertido: {arquivo}\")\n",
    "        except Exception as e:\n",
    "            print(f\"Erro ao converter {arquivo}: {e}\")\n"
   ]
  },
  {
   "cell_type": "markdown",
   "id": "e84f5cba",
   "metadata": {},
   "source": [
    "### Pivotando arquivos CSV"
   ]
  },
  {
   "cell_type": "code",
   "execution_count": null,
   "id": "9b34770a",
   "metadata": {},
   "outputs": [],
   "source": [
    "\n",
    "\n",
    "def process_files(input_folder, output_folder):\n",
    "    \"\"\"Processa todos os arquivos CSV na pasta de entrada e salva na pasta de saída\"\"\"\n",
    "    # Garante que a pasta de saída existe\n",
    "    Path(output_folder).mkdir(parents=True, exist_ok=True)\n",
    "    \n",
    "\n",
    "    for arquivo in os.listdir(input_folder):\n",
    "        if arquivo.endswith('.csv') or arquivo.endswith('.xlsx'):\n",
    "            try:\n",
    "                nome = os.path.splitext(arquivo)[0]\n",
    "                file_path = os.path.join(input_folder, arquivo)\n",
    "                #trasnformar arquivo para csv e retirar a prima linha\n",
    "                if arquivo.endswith('.xlsx'):\n",
    "                    df = pd.read_excel(file_path, header=1)\n",
    "                    #cria um  nome temporário para o CSV\n",
    "                    temp_csv_path = os.path.join(input_folder, f\"temp_{nome}.csv\")\n",
    "                    df.to_csv(temp_csv_path, index=False, encoding='utf-8')\n",
    "                    file_path = temp_csv_path\n",
    "                # Ler o CSV\n",
    "                df = pd.read_csv(file_path, encoding='utf-8')\n",
    "                \n",
    "                # Transformar de wide para long\n",
    "                df_long = df.melt(\n",
    "                    id_vars=['Código da Conta','Descrição da Conta'],\n",
    "                    var_name='data',\n",
    "                    value_name='valor'\n",
    "                )\n",
    "           \n",
    "                # Tratamento de nulos\n",
    "                df_long = df_long.assign(valor =lambda x: x['valor'].fillna(0))\n",
    "                                        \n",
    "                # Ordenação\n",
    "                df_long = df_long.sort_values(['Código da Conta','data'])\n",
    "                \n",
    "                # Salvar arquivo processado\n",
    "                output_file = f\"{nome}_rotacionado.csv\"\n",
    "                output_path = os.path.join(output_folder, output_file)\n",
    "                df_long.to_csv(output_path, index=False, encoding='utf-8')\n",
    "                \n",
    "                print(f\"Arquivo {arquivo} processado com sucesso! Salvo como {output_file}\")\n",
    "                print(df_long.head())\n",
    "                \n",
    "            except Exception as e:\n",
    "                print(f\"Erro ao processar o arquivo {arquivo}: {str(e)}\")\n",
    "\n",
    "# Configuração dos caminhos (usando Path para compatibilidade entre sistemas)\n",
    "base_dir = Path(r\"E:\\PYTHON\\PROJETOS_PESSOAIS\\analise_weg\")\n",
    "input_folder = base_dir / \"_03_ANALISE_EXPLORATORIA\\_03_02_analises_01\"\n",
    "output_folder = base_dir / \"_04_ETL/_04_01_datasets_pivotados\"\n",
    "\n",
    "# Executar o processamento\n",
    "process_files(input_folder, output_folder)"
   ]
  },
  {
   "cell_type": "code",
   "execution_count": null,
   "id": "87eb63a8",
   "metadata": {},
   "outputs": [],
   "source": [
    "df = pd.read_csv(r\"E:\\PYTHON\\PROJETOS_PESSOAIS\\analise_weg\\_04_ETL\\_04_01_datasets_pivotados\\Balanço Patrimonial (BP)_rotacionado.csv\")"
   ]
  },
  {
   "cell_type": "code",
   "execution_count": null,
   "id": "059006eb",
   "metadata": {},
   "outputs": [],
   "source": [
    "df.head(100)  # Exibir as primeiras linhas do DataFrame para verificação"
   ]
  },
  {
   "cell_type": "markdown",
   "id": "8deee1c0",
   "metadata": {},
   "source": [
    "### Alterar cabeçalhos para maiúsculas e substituir espaços por underline"
   ]
  },
  {
   "cell_type": "code",
   "execution_count": null,
   "id": "723c2ae4",
   "metadata": {},
   "outputs": [],
   "source": [
    "pasta_origem = r'E:\\PYTHON\\PROJETOS_PESSOAIS\\analise_weg\\_04_ETL\\datasets_pivotados'\n",
    "pasta_destino = r\"E:\\PYTHON\\PROJETOS_PESSOAIS\\analise_weg\\_04_ETL\\_04_01_dataset_tratado\"\n",
    "\n",
    "for arquivo in os.listdir(pasta_origem):\n",
    "    if arquivo.endswith('.csv'):\n",
    "        entrada = os.path.join(pasta_origem, arquivo)\n",
    "        saida = os.path.join(pasta_destino, arquivo)\n",
    "        try:\n",
    "            df = pd.read_csv(entrada, encoding='utf-8')\n",
    "            df.columns = [unidecode(str(col)).upper().replace(' ', '_') for col in df.columns]\n",
    "            df.to_csv(saida, index=False)\n",
    "            print(f\"Convertido: {arquivo}\")\n",
    "        except Exception as e:\n",
    "            print(f\"Erro ao converter {arquivo}: {e}\")"
   ]
  },
  {
   "cell_type": "markdown",
   "id": "064ced4d",
   "metadata": {},
   "source": [
    "#### DEIXAR TUDO SEM ACENTO E CAIXA ALTA"
   ]
  },
  {
   "cell_type": "code",
   "execution_count": null,
   "id": "00cb81de",
   "metadata": {},
   "outputs": [
    {
     "name": "stdout",
     "output_type": "stream",
     "text": [
      "Convertido: Balanço Patrimonial (BP)_rotacionado.csv\n",
      "Convertido: Demonstração de Fluxo de Caixa (DFC)_rotacionado.csv\n",
      "Convertido: Demonstração de Resultados (DRE)_rotacionado.csv\n"
     ]
    }
   ],
   "source": [
    "pasta_origem = r'E:\\PYTHON\\PROJETOS_PESSOAIS\\analise_weg\\_04_ETL\\datasets_pivotados'\n",
    "pasta_destino = r\"E:\\PYTHON\\PROJETOS_PESSOAIS\\analise_weg\\_04_ETL\\_04_02_dataset_tratado\"\n",
    "\n",
    "for arquivo in os.listdir(pasta_origem):\n",
    "    if arquivo.endswith('.csv'):\n",
    "        entrada = os.path.join(pasta_origem, arquivo)\n",
    "        saida = os.path.join(pasta_destino, arquivo)\n",
    "        try:\n",
    "            df = pd.read_csv(entrada, encoding='utf-8')\n",
    "\n",
    "            # Normaliza os nomes das colunas para maiúsculas e sem acentos\n",
    "            df.columns = [unidecode(str(col).upper()) for col in df.columns]\n",
    "            df = df.dropna()\n",
    "\n",
    "            # Converte todos os valores de string para maiúsculas e sem acentos\n",
    "            for col in df.select_dtypes(include='object').columns:\n",
    "                df[col] = df[col].apply(\n",
    "                    lambda val: unidecode(str(val).strip().upper()) if pd.notnull(val) else val\n",
    "                )\n",
    "\n",
    "            df.to_csv(saida, index=False, encoding='utf-8')\n",
    "            print(f\"Convertido: {arquivo}\")\n",
    "        except Exception as e:\n",
    "            print(f\"Erro ao converter {arquivo}: {e}\")"
   ]
  },
  {
   "cell_type": "markdown",
   "id": "a8d5774d",
   "metadata": {},
   "source": [
    "## describe - ver tipos das tabelas\n",
    "### tabela balanço patrimonial\n",
    "\n",
    "#### Resumo das Opções\n",
    "\n",
    "---\n",
    "| Método            | Descrição                          | Mais Usado Para         |\n",
    "|-------------------|------------------------------------|-------------------------|\n",
    "| describe()       | Estatísticas descritivas           | Dados numéricos          |\n",
    "| info()           | Estrutura do DataFrame             | Verificar tipos e nulos  |\n",
    "| value_counts()   | Contagem de valores únicos         | Colunas categóricas      |\n",
    "| isnull().sum()   | Valores faltantes                  | Limpeza de dados         |\n",
    "| corr()           | Correlação entre colunas           | Análise de relações      |\n",
    "| nunique()        | Número de valores distintos        | Dados categóricos/únicos |\n",
    "```python"
   ]
  },
  {
   "cell_type": "code",
   "execution_count": 1,
   "id": "582984f2",
   "metadata": {},
   "outputs": [
    {
     "ename": "FileNotFoundError",
     "evalue": "[Errno 2] No such file or directory: 'E:\\\\PYTHON\\\\PROJETOS_PESSOAIS\\\\analise_weg\\\\_04_ETL\\\\datasets_pivotados\\\\Demonstração de Resultados (DRE)_rotacionado.csv'",
     "output_type": "error",
     "traceback": [
      "\u001b[31m---------------------------------------------------------------------------\u001b[39m",
      "\u001b[31mFileNotFoundError\u001b[39m                         Traceback (most recent call last)",
      "\u001b[36mCell\u001b[39m\u001b[36m \u001b[39m\u001b[32mIn[1]\u001b[39m\u001b[32m, line 2\u001b[39m\n\u001b[32m      1\u001b[39m \u001b[38;5;28;01mimport\u001b[39;00m\u001b[38;5;250m \u001b[39m\u001b[34;01mpandas\u001b[39;00m\u001b[38;5;250m \u001b[39m\u001b[38;5;28;01mas\u001b[39;00m\u001b[38;5;250m \u001b[39m\u001b[34;01mpd\u001b[39;00m\n\u001b[32m----> \u001b[39m\u001b[32m2\u001b[39m df = \u001b[43mpd\u001b[49m\u001b[43m.\u001b[49m\u001b[43mread_csv\u001b[49m\u001b[43m(\u001b[49m\u001b[33;43mr\u001b[39;49m\u001b[33;43m\"\u001b[39;49m\u001b[33;43mE:\u001b[39;49m\u001b[33;43m\\\u001b[39;49m\u001b[33;43mPYTHON\u001b[39;49m\u001b[33;43m\\\u001b[39;49m\u001b[33;43mPROJETOS_PESSOAIS\u001b[39;49m\u001b[33;43m\\\u001b[39;49m\u001b[33;43manalise_weg\u001b[39;49m\u001b[33;43m\\\u001b[39;49m\u001b[33;43m_04_ETL\u001b[39;49m\u001b[33;43m\\\u001b[39;49m\u001b[33;43mdatasets_pivotados\u001b[39;49m\u001b[33;43m\\\u001b[39;49m\u001b[33;43mDemonstração de Resultados (DRE)_rotacionado.csv\u001b[39;49m\u001b[33;43m\"\u001b[39;49m\u001b[43m)\u001b[49m\n\u001b[32m      3\u001b[39m df.info()\n",
      "\u001b[36mFile \u001b[39m\u001b[32m/media/hd465gb_backup/PYTHON/PROJETOS_PESSOAIS/analise_weg/.venv_linux/lib/python3.12/site-packages/pandas/io/parsers/readers.py:1026\u001b[39m, in \u001b[36mread_csv\u001b[39m\u001b[34m(filepath_or_buffer, sep, delimiter, header, names, index_col, usecols, dtype, engine, converters, true_values, false_values, skipinitialspace, skiprows, skipfooter, nrows, na_values, keep_default_na, na_filter, verbose, skip_blank_lines, parse_dates, infer_datetime_format, keep_date_col, date_parser, date_format, dayfirst, cache_dates, iterator, chunksize, compression, thousands, decimal, lineterminator, quotechar, quoting, doublequote, escapechar, comment, encoding, encoding_errors, dialect, on_bad_lines, delim_whitespace, low_memory, memory_map, float_precision, storage_options, dtype_backend)\u001b[39m\n\u001b[32m   1013\u001b[39m kwds_defaults = _refine_defaults_read(\n\u001b[32m   1014\u001b[39m     dialect,\n\u001b[32m   1015\u001b[39m     delimiter,\n\u001b[32m   (...)\u001b[39m\u001b[32m   1022\u001b[39m     dtype_backend=dtype_backend,\n\u001b[32m   1023\u001b[39m )\n\u001b[32m   1024\u001b[39m kwds.update(kwds_defaults)\n\u001b[32m-> \u001b[39m\u001b[32m1026\u001b[39m \u001b[38;5;28;01mreturn\u001b[39;00m \u001b[43m_read\u001b[49m\u001b[43m(\u001b[49m\u001b[43mfilepath_or_buffer\u001b[49m\u001b[43m,\u001b[49m\u001b[43m \u001b[49m\u001b[43mkwds\u001b[49m\u001b[43m)\u001b[49m\n",
      "\u001b[36mFile \u001b[39m\u001b[32m/media/hd465gb_backup/PYTHON/PROJETOS_PESSOAIS/analise_weg/.venv_linux/lib/python3.12/site-packages/pandas/io/parsers/readers.py:620\u001b[39m, in \u001b[36m_read\u001b[39m\u001b[34m(filepath_or_buffer, kwds)\u001b[39m\n\u001b[32m    617\u001b[39m _validate_names(kwds.get(\u001b[33m\"\u001b[39m\u001b[33mnames\u001b[39m\u001b[33m\"\u001b[39m, \u001b[38;5;28;01mNone\u001b[39;00m))\n\u001b[32m    619\u001b[39m \u001b[38;5;66;03m# Create the parser.\u001b[39;00m\n\u001b[32m--> \u001b[39m\u001b[32m620\u001b[39m parser = \u001b[43mTextFileReader\u001b[49m\u001b[43m(\u001b[49m\u001b[43mfilepath_or_buffer\u001b[49m\u001b[43m,\u001b[49m\u001b[43m \u001b[49m\u001b[43m*\u001b[49m\u001b[43m*\u001b[49m\u001b[43mkwds\u001b[49m\u001b[43m)\u001b[49m\n\u001b[32m    622\u001b[39m \u001b[38;5;28;01mif\u001b[39;00m chunksize \u001b[38;5;129;01mor\u001b[39;00m iterator:\n\u001b[32m    623\u001b[39m     \u001b[38;5;28;01mreturn\u001b[39;00m parser\n",
      "\u001b[36mFile \u001b[39m\u001b[32m/media/hd465gb_backup/PYTHON/PROJETOS_PESSOAIS/analise_weg/.venv_linux/lib/python3.12/site-packages/pandas/io/parsers/readers.py:1620\u001b[39m, in \u001b[36mTextFileReader.__init__\u001b[39m\u001b[34m(self, f, engine, **kwds)\u001b[39m\n\u001b[32m   1617\u001b[39m     \u001b[38;5;28mself\u001b[39m.options[\u001b[33m\"\u001b[39m\u001b[33mhas_index_names\u001b[39m\u001b[33m\"\u001b[39m] = kwds[\u001b[33m\"\u001b[39m\u001b[33mhas_index_names\u001b[39m\u001b[33m\"\u001b[39m]\n\u001b[32m   1619\u001b[39m \u001b[38;5;28mself\u001b[39m.handles: IOHandles | \u001b[38;5;28;01mNone\u001b[39;00m = \u001b[38;5;28;01mNone\u001b[39;00m\n\u001b[32m-> \u001b[39m\u001b[32m1620\u001b[39m \u001b[38;5;28mself\u001b[39m._engine = \u001b[38;5;28;43mself\u001b[39;49m\u001b[43m.\u001b[49m\u001b[43m_make_engine\u001b[49m\u001b[43m(\u001b[49m\u001b[43mf\u001b[49m\u001b[43m,\u001b[49m\u001b[43m \u001b[49m\u001b[38;5;28;43mself\u001b[39;49m\u001b[43m.\u001b[49m\u001b[43mengine\u001b[49m\u001b[43m)\u001b[49m\n",
      "\u001b[36mFile \u001b[39m\u001b[32m/media/hd465gb_backup/PYTHON/PROJETOS_PESSOAIS/analise_weg/.venv_linux/lib/python3.12/site-packages/pandas/io/parsers/readers.py:1880\u001b[39m, in \u001b[36mTextFileReader._make_engine\u001b[39m\u001b[34m(self, f, engine)\u001b[39m\n\u001b[32m   1878\u001b[39m     \u001b[38;5;28;01mif\u001b[39;00m \u001b[33m\"\u001b[39m\u001b[33mb\u001b[39m\u001b[33m\"\u001b[39m \u001b[38;5;129;01mnot\u001b[39;00m \u001b[38;5;129;01min\u001b[39;00m mode:\n\u001b[32m   1879\u001b[39m         mode += \u001b[33m\"\u001b[39m\u001b[33mb\u001b[39m\u001b[33m\"\u001b[39m\n\u001b[32m-> \u001b[39m\u001b[32m1880\u001b[39m \u001b[38;5;28mself\u001b[39m.handles = \u001b[43mget_handle\u001b[49m\u001b[43m(\u001b[49m\n\u001b[32m   1881\u001b[39m \u001b[43m    \u001b[49m\u001b[43mf\u001b[49m\u001b[43m,\u001b[49m\n\u001b[32m   1882\u001b[39m \u001b[43m    \u001b[49m\u001b[43mmode\u001b[49m\u001b[43m,\u001b[49m\n\u001b[32m   1883\u001b[39m \u001b[43m    \u001b[49m\u001b[43mencoding\u001b[49m\u001b[43m=\u001b[49m\u001b[38;5;28;43mself\u001b[39;49m\u001b[43m.\u001b[49m\u001b[43moptions\u001b[49m\u001b[43m.\u001b[49m\u001b[43mget\u001b[49m\u001b[43m(\u001b[49m\u001b[33;43m\"\u001b[39;49m\u001b[33;43mencoding\u001b[39;49m\u001b[33;43m\"\u001b[39;49m\u001b[43m,\u001b[49m\u001b[43m \u001b[49m\u001b[38;5;28;43;01mNone\u001b[39;49;00m\u001b[43m)\u001b[49m\u001b[43m,\u001b[49m\n\u001b[32m   1884\u001b[39m \u001b[43m    \u001b[49m\u001b[43mcompression\u001b[49m\u001b[43m=\u001b[49m\u001b[38;5;28;43mself\u001b[39;49m\u001b[43m.\u001b[49m\u001b[43moptions\u001b[49m\u001b[43m.\u001b[49m\u001b[43mget\u001b[49m\u001b[43m(\u001b[49m\u001b[33;43m\"\u001b[39;49m\u001b[33;43mcompression\u001b[39;49m\u001b[33;43m\"\u001b[39;49m\u001b[43m,\u001b[49m\u001b[43m \u001b[49m\u001b[38;5;28;43;01mNone\u001b[39;49;00m\u001b[43m)\u001b[49m\u001b[43m,\u001b[49m\n\u001b[32m   1885\u001b[39m \u001b[43m    \u001b[49m\u001b[43mmemory_map\u001b[49m\u001b[43m=\u001b[49m\u001b[38;5;28;43mself\u001b[39;49m\u001b[43m.\u001b[49m\u001b[43moptions\u001b[49m\u001b[43m.\u001b[49m\u001b[43mget\u001b[49m\u001b[43m(\u001b[49m\u001b[33;43m\"\u001b[39;49m\u001b[33;43mmemory_map\u001b[39;49m\u001b[33;43m\"\u001b[39;49m\u001b[43m,\u001b[49m\u001b[43m \u001b[49m\u001b[38;5;28;43;01mFalse\u001b[39;49;00m\u001b[43m)\u001b[49m\u001b[43m,\u001b[49m\n\u001b[32m   1886\u001b[39m \u001b[43m    \u001b[49m\u001b[43mis_text\u001b[49m\u001b[43m=\u001b[49m\u001b[43mis_text\u001b[49m\u001b[43m,\u001b[49m\n\u001b[32m   1887\u001b[39m \u001b[43m    \u001b[49m\u001b[43merrors\u001b[49m\u001b[43m=\u001b[49m\u001b[38;5;28;43mself\u001b[39;49m\u001b[43m.\u001b[49m\u001b[43moptions\u001b[49m\u001b[43m.\u001b[49m\u001b[43mget\u001b[49m\u001b[43m(\u001b[49m\u001b[33;43m\"\u001b[39;49m\u001b[33;43mencoding_errors\u001b[39;49m\u001b[33;43m\"\u001b[39;49m\u001b[43m,\u001b[49m\u001b[43m \u001b[49m\u001b[33;43m\"\u001b[39;49m\u001b[33;43mstrict\u001b[39;49m\u001b[33;43m\"\u001b[39;49m\u001b[43m)\u001b[49m\u001b[43m,\u001b[49m\n\u001b[32m   1888\u001b[39m \u001b[43m    \u001b[49m\u001b[43mstorage_options\u001b[49m\u001b[43m=\u001b[49m\u001b[38;5;28;43mself\u001b[39;49m\u001b[43m.\u001b[49m\u001b[43moptions\u001b[49m\u001b[43m.\u001b[49m\u001b[43mget\u001b[49m\u001b[43m(\u001b[49m\u001b[33;43m\"\u001b[39;49m\u001b[33;43mstorage_options\u001b[39;49m\u001b[33;43m\"\u001b[39;49m\u001b[43m,\u001b[49m\u001b[43m \u001b[49m\u001b[38;5;28;43;01mNone\u001b[39;49;00m\u001b[43m)\u001b[49m\u001b[43m,\u001b[49m\n\u001b[32m   1889\u001b[39m \u001b[43m\u001b[49m\u001b[43m)\u001b[49m\n\u001b[32m   1890\u001b[39m \u001b[38;5;28;01massert\u001b[39;00m \u001b[38;5;28mself\u001b[39m.handles \u001b[38;5;129;01mis\u001b[39;00m \u001b[38;5;129;01mnot\u001b[39;00m \u001b[38;5;28;01mNone\u001b[39;00m\n\u001b[32m   1891\u001b[39m f = \u001b[38;5;28mself\u001b[39m.handles.handle\n",
      "\u001b[36mFile \u001b[39m\u001b[32m/media/hd465gb_backup/PYTHON/PROJETOS_PESSOAIS/analise_weg/.venv_linux/lib/python3.12/site-packages/pandas/io/common.py:873\u001b[39m, in \u001b[36mget_handle\u001b[39m\u001b[34m(path_or_buf, mode, encoding, compression, memory_map, is_text, errors, storage_options)\u001b[39m\n\u001b[32m    868\u001b[39m \u001b[38;5;28;01melif\u001b[39;00m \u001b[38;5;28misinstance\u001b[39m(handle, \u001b[38;5;28mstr\u001b[39m):\n\u001b[32m    869\u001b[39m     \u001b[38;5;66;03m# Check whether the filename is to be opened in binary mode.\u001b[39;00m\n\u001b[32m    870\u001b[39m     \u001b[38;5;66;03m# Binary mode does not support 'encoding' and 'newline'.\u001b[39;00m\n\u001b[32m    871\u001b[39m     \u001b[38;5;28;01mif\u001b[39;00m ioargs.encoding \u001b[38;5;129;01mand\u001b[39;00m \u001b[33m\"\u001b[39m\u001b[33mb\u001b[39m\u001b[33m\"\u001b[39m \u001b[38;5;129;01mnot\u001b[39;00m \u001b[38;5;129;01min\u001b[39;00m ioargs.mode:\n\u001b[32m    872\u001b[39m         \u001b[38;5;66;03m# Encoding\u001b[39;00m\n\u001b[32m--> \u001b[39m\u001b[32m873\u001b[39m         handle = \u001b[38;5;28;43mopen\u001b[39;49m\u001b[43m(\u001b[49m\n\u001b[32m    874\u001b[39m \u001b[43m            \u001b[49m\u001b[43mhandle\u001b[49m\u001b[43m,\u001b[49m\n\u001b[32m    875\u001b[39m \u001b[43m            \u001b[49m\u001b[43mioargs\u001b[49m\u001b[43m.\u001b[49m\u001b[43mmode\u001b[49m\u001b[43m,\u001b[49m\n\u001b[32m    876\u001b[39m \u001b[43m            \u001b[49m\u001b[43mencoding\u001b[49m\u001b[43m=\u001b[49m\u001b[43mioargs\u001b[49m\u001b[43m.\u001b[49m\u001b[43mencoding\u001b[49m\u001b[43m,\u001b[49m\n\u001b[32m    877\u001b[39m \u001b[43m            \u001b[49m\u001b[43merrors\u001b[49m\u001b[43m=\u001b[49m\u001b[43merrors\u001b[49m\u001b[43m,\u001b[49m\n\u001b[32m    878\u001b[39m \u001b[43m            \u001b[49m\u001b[43mnewline\u001b[49m\u001b[43m=\u001b[49m\u001b[33;43m\"\u001b[39;49m\u001b[33;43m\"\u001b[39;49m\u001b[43m,\u001b[49m\n\u001b[32m    879\u001b[39m \u001b[43m        \u001b[49m\u001b[43m)\u001b[49m\n\u001b[32m    880\u001b[39m     \u001b[38;5;28;01melse\u001b[39;00m:\n\u001b[32m    881\u001b[39m         \u001b[38;5;66;03m# Binary mode\u001b[39;00m\n\u001b[32m    882\u001b[39m         handle = \u001b[38;5;28mopen\u001b[39m(handle, ioargs.mode)\n",
      "\u001b[31mFileNotFoundError\u001b[39m: [Errno 2] No such file or directory: 'E:\\\\PYTHON\\\\PROJETOS_PESSOAIS\\\\analise_weg\\\\_04_ETL\\\\datasets_pivotados\\\\Demonstração de Resultados (DRE)_rotacionado.csv'"
     ]
    }
   ],
   "source": [
    "import pandas as pd\n",
    "df = pd.read_csv(r\"E:\\PYTHON\\PROJETOS_PESSOAIS\\analise_weg\\_04_ETL\\datasets_pivotados\\Demonstração de Resultados (DRE)_rotacionado.csv\")\n",
    "df.info()"
   ]
  }
 ],
 "metadata": {
  "kernelspec": {
   "display_name": ".venv_linux",
   "language": "python",
   "name": "python3"
  },
  "language_info": {
   "codemirror_mode": {
    "name": "ipython",
    "version": 3
   },
   "file_extension": ".py",
   "mimetype": "text/x-python",
   "name": "python",
   "nbconvert_exporter": "python",
   "pygments_lexer": "ipython3",
   "version": "3.12.3"
  }
 },
 "nbformat": 4,
 "nbformat_minor": 5
}
