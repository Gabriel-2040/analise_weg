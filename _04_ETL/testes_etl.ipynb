{
 "cells": [
  {
   "cell_type": "markdown",
   "id": "688ce916",
   "metadata": {},
   "source": [
    "## describe - ver tipos das tabelas\n",
    "### tabela balanço patrimonial"
   ]
  },
  {
   "cell_type": "markdown",
   "id": "d37882b4",
   "metadata": {},
   "source": [
    "#### Resumo das Opções\n",
    "\n",
    "---\n",
    "| Método            | Descrição                          | Mais Usado Para         |\n",
    "|-------------------|------------------------------------|-------------------------|\n",
    "| describe()       | Estatísticas descritivas           | Dados numéricos          |\n",
    "| info()           | Estrutura do DataFrame             | Verificar tipos e nulos  |\n",
    "| value_counts()   | Contagem de valores únicos         | Colunas categóricas      |\n",
    "| isnull().sum()   | Valores faltantes                  | Limpeza de dados         |\n",
    "| corr()           | Correlação entre colunas           | Análise de relações      |\n",
    "| nunique()        | Número de valores distintos        | Dados categóricos/únicos |\n",
    "```python"
   ]
  },
  {
   "cell_type": "code",
   "execution_count": null,
   "id": "cb4d9685",
   "metadata": {},
   "outputs": [],
   "source": [
    "import pandas as pd\n",
    "df = pd.read_csv(r\"E:\\PYTHON\\PROJETOS_PESSOAIS\\analise_weg\\_04_ETL\\datasets_pivotados\\Demonstração de Resultados (DRE)_rotacionado.csv\")\n",
    "df.info()"
   ]
  },
  {
   "cell_type": "markdown",
   "id": "4f4765cb",
   "metadata": {},
   "source": [
    "Balanço Patrimonial (BP)_rotacionado.\n",
    " 0   Código da Conta     6649 non-null   object \n",
    " 1   Descrição da Conta  6527 non-null   object \n",
    " 2   data                6649 non-null   object \n",
    " 3   valor               6649 non-null   float64\n",
    " 4   codigo_conta        6649 non-null   object \n",
    " 5   descricao_conta     6649 non-null   object \n",
    "\n",
    "Demonstração de Fluxo de Caixa (DFC)_rotacionado\n",
    " 0   Código da Conta     3410 non-null   object \n",
    " 1   Descrição da Conta  3596 non-null   object \n",
    " 2   data                3596 non-null   object \n",
    " 3   valor               3596 non-null   float64\n",
    " 4   codigo_conta        3596 non-null   object \n",
    " 5   descricao_conta     3596 non-null   object\n",
    "\n",
    "Demonstração de Resultados (DRE)_rotacionado\n",
    " 0   Código da Conta     1891 non-null   object \n",
    " 1   Descrição da Conta  1952 non-null   object \n",
    " 2   data                2196 non-null   object \n",
    " 3   valor               2196 non-null   float64\n",
    " 4   codigo_conta        2196 non-null   object \n",
    " 5   descricao_conta     2196 non-null   object \n",
    "\n"
   ]
  },
  {
   "cell_type": "code",
   "execution_count": null,
   "id": "63c45fb3",
   "metadata": {},
   "outputs": [],
   "source": [
    "df.dtypes"
   ]
  }
 ],
 "metadata": {
  "kernelspec": {
   "display_name": ".venv_windows",
   "language": "python",
   "name": "python3"
  },
  "language_info": {
   "codemirror_mode": {
    "name": "ipython",
    "version": 3
   },
   "file_extension": ".py",
   "mimetype": "text/x-python",
   "name": "python",
   "nbconvert_exporter": "python",
   "pygments_lexer": "ipython3",
   "version": "3.12.10"
  }
 },
 "nbformat": 4,
 "nbformat_minor": 5
}
