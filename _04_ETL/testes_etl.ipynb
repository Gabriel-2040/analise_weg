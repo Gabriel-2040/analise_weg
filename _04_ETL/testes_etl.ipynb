{
 "cells": [
  {
   "cell_type": "markdown",
   "id": "688ce916",
   "metadata": {},
   "source": [
    "## describe - ver tipos das tabelas\n",
    "### tabela balanço patrimonial"
   ]
  },
  {
   "cell_type": "markdown",
   "id": "d37882b4",
   "metadata": {},
   "source": [
    "#### Resumo das Opções\n",
    "\n",
    "---\n",
    "| Método            | Descrição                          | Mais Usado Para         |\n",
    "|-------------------|------------------------------------|-------------------------|\n",
    "| describe()       | Estatísticas descritivas           | Dados numéricos          |\n",
    "| info()           | Estrutura do DataFrame             | Verificar tipos e nulos  |\n",
    "| value_counts()   | Contagem de valores únicos         | Colunas categóricas      |\n",
    "| isnull().sum()   | Valores faltantes                  | Limpeza de dados         |\n",
    "| corr()           | Correlação entre colunas           | Análise de relações      |\n",
    "| nunique()        | Número de valores distintos        | Dados categóricos/únicos |\n",
    "```python"
   ]
  },
  {
   "cell_type": "code",
   "execution_count": 6,
   "id": "cb4d9685",
   "metadata": {},
   "outputs": [
    {
     "name": "stdout",
     "output_type": "stream",
     "text": [
      "<class 'pandas.core.frame.DataFrame'>\n",
      "RangeIndex: 6649 entries, 0 to 6648\n",
      "Data columns (total 6 columns):\n",
      " #   Column              Non-Null Count  Dtype  \n",
      "---  ------              --------------  -----  \n",
      " 0   Código da Conta     6649 non-null   object \n",
      " 1   Descrição da Conta  6527 non-null   object \n",
      " 2   data                6649 non-null   object \n",
      " 3   valor               6649 non-null   float64\n",
      " 4   codigo_conta        6649 non-null   object \n",
      " 5   descricao_conta     6649 non-null   object \n",
      "dtypes: float64(1), object(5)\n",
      "memory usage: 311.8+ KB\n"
     ]
    }
   ],
   "source": [
    "import pandas as pd\n",
    "df = pd.read_csv(r\"E:\\PYTHON\\PROJETOS_PESSOAIS\\analise_weg\\_04_ETL\\datasets_pivotados\\Balanço Patrimonial (BP)_rotacionado.csv\")\n",
    "df.info()"
   ]
  },
  {
   "cell_type": "code",
   "execution_count": 5,
   "id": "63c45fb3",
   "metadata": {},
   "outputs": [
    {
     "data": {
      "application/vnd.microsoft.datawrangler.viewer.v0+json": {
       "columns": [
        {
         "name": "index",
         "rawType": "object",
         "type": "string"
        },
        {
         "name": "0",
         "rawType": "object",
         "type": "unknown"
        }
       ],
       "ref": "00508579-feca-405e-9045-abeda225f691",
       "rows": [
        [
         "Código da Conta",
         "object"
        ],
        [
         "Descrição da Conta",
         "object"
        ],
        [
         "data",
         "object"
        ],
        [
         "valor",
         "float64"
        ],
        [
         "codigo_conta",
         "object"
        ],
        [
         "descricao_conta",
         "object"
        ]
       ],
       "shape": {
        "columns": 1,
        "rows": 6
       }
      },
      "text/plain": [
       "Código da Conta        object\n",
       "Descrição da Conta     object\n",
       "data                   object\n",
       "valor                 float64\n",
       "codigo_conta           object\n",
       "descricao_conta        object\n",
       "dtype: object"
      ]
     },
     "execution_count": 5,
     "metadata": {},
     "output_type": "execute_result"
    }
   ],
   "source": [
    "df.dtypes"
   ]
  }
 ],
 "metadata": {
  "kernelspec": {
   "display_name": ".venv_windows",
   "language": "python",
   "name": "python3"
  },
  "language_info": {
   "codemirror_mode": {
    "name": "ipython",
    "version": 3
   },
   "file_extension": ".py",
   "mimetype": "text/x-python",
   "name": "python",
   "nbconvert_exporter": "python",
   "pygments_lexer": "ipython3",
   "version": "3.12.10"
  }
 },
 "nbformat": 4,
 "nbformat_minor": 5
}
