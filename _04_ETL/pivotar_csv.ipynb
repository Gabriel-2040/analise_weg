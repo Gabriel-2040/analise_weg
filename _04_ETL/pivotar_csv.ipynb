{
 "cells": [
  {
   "cell_type": "code",
   "execution_count": 82,
   "id": "f20835d2",
   "metadata": {},
   "outputs": [],
   "source": [
    "import pandas as pd\n",
    "import os\n",
    "import sys\n",
    "from pathlib import Path  # Melhor forma para trabalhar com caminhos\n"
   ]
  },
  {
   "cell_type": "markdown",
   "id": "e7c82e65",
   "metadata": {},
   "source": [
    "### Convertendo xlsx para csv\n"
   ]
  },
  {
   "cell_type": "code",
   "execution_count": 87,
   "id": "f09eb8cb",
   "metadata": {},
   "outputs": [
    {
     "name": "stdout",
     "output_type": "stream",
     "text": [
      "Convertido: Balanço Patrimonial (BP).xlsx\n",
      "Convertido: Demonstração de Fluxo de Caixa (DFC).xlsx\n",
      "Convertido: Demonstração de Resultados (DRE).xlsx\n"
     ]
    }
   ],
   "source": [
    "pasta_origem = r'E:\\PYTHON\\PROJETOS_PESSOAIS\\analise_weg\\_02_DATASETS\\datasets_original'\n",
    "pasta_destino = r\"E:\\PYTHON\\PROJETOS_PESSOAIS\\analise_weg\\_03_ANALISE_EXPLORATORIA\"\n",
    "\n",
    "for arquivo in os.listdir(pasta_origem):\n",
    "    if arquivo.endswith('.xlsx'):\n",
    "        entrada = os.path.join(pasta_origem, arquivo)\n",
    "        saida = os.path.join(pasta_destino, arquivo.replace('.xlsx', '.csv'))\n",
    "        try:\n",
    "            df = pd.read_excel(entrada, header=1, engine='openpyxl')\n",
    "            df.to_csv(saida, index=False)\n",
    "            print(f\"Convertido: {arquivo}\")\n",
    "        except Exception as e:\n",
    "            print(f\"Erro ao converter {arquivo}: {e}\")\n"
   ]
  },
  {
   "cell_type": "markdown",
   "id": "e84f5cba",
   "metadata": {},
   "source": [
    "### Pivotando arquivos CSV"
   ]
  },
  {
   "cell_type": "code",
   "execution_count": 93,
   "id": "9b34770a",
   "metadata": {},
   "outputs": [
    {
     "name": "stdout",
     "output_type": "stream",
     "text": [
      "Arquivo Balanço Patrimonial (BP).csv processado com sucesso! Salvo como Balanço Patrimonial (BP)_rotacionado.csv\n",
      "    Código da Conta Descrição da Conta                 data  valor  \\\n",
      "44                                 NaN  2010-03-31 00:00:00    0.0   \n",
      "45                                 NaN  2010-03-31 00:00:00    0.0   \n",
      "153                                NaN  2010-06-30 00:00:00    0.0   \n",
      "154                                NaN  2010-06-30 00:00:00    0.0   \n",
      "262                                NaN  2010-09-30 00:00:00    0.0   \n",
      "\n",
      "    codigo_conta descricao_conta  \n",
      "44                             0  \n",
      "45                             0  \n",
      "153                            0  \n",
      "154                            0  \n",
      "262                            0  \n",
      "Arquivo Demonstração de Fluxo de Caixa (DFC).csv processado com sucesso! Salvo como Demonstração de Fluxo de Caixa (DFC)_rotacionado.csv\n",
      "    Código da Conta                     Descrição da Conta  \\\n",
      "0              6.01  Caixa Líquido Atividades Operacionais   \n",
      "58             6.01  Caixa Líquido Atividades Operacionais   \n",
      "116            6.01  Caixa Líquido Atividades Operacionais   \n",
      "174            6.01  Caixa Líquido Atividades Operacionais   \n",
      "232            6.01  Caixa Líquido Atividades Operacionais   \n",
      "\n",
      "                    data     valor codigo_conta  \\\n",
      "0    2010-03-31 00:00:00  150487.0         6.01   \n",
      "58   2010-06-30 00:00:00  431882.0         6.01   \n",
      "116  2010-09-30 00:00:00  420330.0         6.01   \n",
      "174  2010-12-31 00:00:00  653442.0         6.01   \n",
      "232  2011-03-31 00:00:00  189204.0         6.01   \n",
      "\n",
      "                           descricao_conta  \n",
      "0    Caixa Líquido Atividades Operacionais  \n",
      "58   Caixa Líquido Atividades Operacionais  \n",
      "116  Caixa Líquido Atividades Operacionais  \n",
      "174  Caixa Líquido Atividades Operacionais  \n",
      "232  Caixa Líquido Atividades Operacionais  \n",
      "Arquivo Demonstração de Resultados (DRE).csv processado com sucesso! Salvo como Demonstração de Resultados (DRE)_rotacionado.csv\n",
      "    Código da Conta                      Descrição da Conta  \\\n",
      "0              3.01  Receita de Venda de Bens e/ou Serviços   \n",
      "36             3.01  Receita de Venda de Bens e/ou Serviços   \n",
      "72             3.01  Receita de Venda de Bens e/ou Serviços   \n",
      "108            3.01  Receita de Venda de Bens e/ou Serviços   \n",
      "144            3.01  Receita de Venda de Bens e/ou Serviços   \n",
      "\n",
      "                    data      valor codigo_conta  \\\n",
      "0    2010-03-31 00:00:00   931907.0         3.01   \n",
      "36   2010-06-30 00:00:00  1013015.0         3.01   \n",
      "72   2010-09-30 00:00:00  1188622.0         3.01   \n",
      "108  2010-12-31 00:00:00  1258429.0         3.01   \n",
      "144  2011-03-31 00:00:00  1126117.0         3.01   \n",
      "\n",
      "                            descricao_conta  \n",
      "0    Receita de Venda de Bens e/ou Serviços  \n",
      "36   Receita de Venda de Bens e/ou Serviços  \n",
      "72   Receita de Venda de Bens e/ou Serviços  \n",
      "108  Receita de Venda de Bens e/ou Serviços  \n",
      "144  Receita de Venda de Bens e/ou Serviços  \n"
     ]
    },
    {
     "name": "stderr",
     "output_type": "stream",
     "text": [
      "<>:49: SyntaxWarning: invalid escape sequence '\\_'\n",
      "<>:49: SyntaxWarning: invalid escape sequence '\\_'\n",
      "C:\\Users\\gabri\\AppData\\Local\\Temp\\ipykernel_1560\\758981859.py:49: SyntaxWarning: invalid escape sequence '\\_'\n",
      "  input_folder = base_dir / \"_03_ANALISE_EXPLORATORIA\\_03_01_dataset_convertido\"\n"
     ]
    }
   ],
   "source": [
    "\n",
    "\n",
    "def process_files(input_folder, output_folder):\n",
    "    \"\"\"Processa todos os arquivos CSV na pasta de entrada e salva na pasta de saída\"\"\"\n",
    "    # Garante que a pasta de saída existe\n",
    "    Path(output_folder).mkdir(parents=True, exist_ok=True)\n",
    "    \n",
    "\n",
    "    for arquivo in os.listdir(input_folder):\n",
    "        if arquivo.endswith('.csv') or arquivo.endswith('.xlsx'):\n",
    "            try:\n",
    "                nome = os.path.splitext(arquivo)[0]\n",
    "                file_path = os.path.join(input_folder, arquivo)\n",
    "                #trasnformar arquivo para csv e retirar a prima linha\n",
    "                if arquivo.endswith('.xlsx'):\n",
    "                    df = pd.read_excel(file_path, header=1)\n",
    "                    #cria um  nome temporário para o CSV\n",
    "                    temp_csv_path = os.path.join(input_folder, f\"temp_{nome}.csv\")\n",
    "                    df.to_csv(temp_csv_path, index=False, encoding='utf-8')\n",
    "                    file_path = temp_csv_path\n",
    "                # Ler o CSV\n",
    "                df = pd.read_csv(file_path, encoding='utf-8')\n",
    "                \n",
    "                # Transformar de wide para long\n",
    "                df_long = df.melt(\n",
    "                    id_vars=['Código da Conta','Descrição da Conta'],\n",
    "                    var_name='data',\n",
    "                    value_name='valor'\n",
    "                )\n",
    "           \n",
    "                # Tratamento de nulos\n",
    "                df_long = df_long.assign(valor =lambda x: x['valor'].fillna(0),\n",
    "                                         codigo_conta = lambda x: x['Código da Conta'].fillna(0),\n",
    "                                         descricao_conta = lambda x: x['Descrição da Conta'].fillna(0))\n",
    "                # Ordenação\n",
    "                df_long = df_long.sort_values(['Código da Conta','data'])\n",
    "                \n",
    "                # Salvar arquivo processado\n",
    "                output_file = f\"{nome}_rotacionado.csv\"\n",
    "                output_path = os.path.join(output_folder, output_file)\n",
    "                df_long.to_csv(output_path, index=False, encoding='utf-8')\n",
    "                \n",
    "                print(f\"Arquivo {arquivo} processado com sucesso! Salvo como {output_file}\")\n",
    "                print(df_long.head())\n",
    "                \n",
    "            except Exception as e:\n",
    "                print(f\"Erro ao processar o arquivo {arquivo}: {str(e)}\")\n",
    "\n",
    "# Configuração dos caminhos (usando Path para compatibilidade entre sistemas)\n",
    "base_dir = Path(r\"E:\\PYTHON\\PROJETOS_PESSOAIS\\analise_weg\")\n",
    "input_folder = base_dir / \"_03_ANALISE_EXPLORATORIA\\_03_01_dataset_convertido\"\n",
    "output_folder = base_dir / \"_04_ETL/datasets_pivotados\"\n",
    "\n",
    "# Executar o processamento\n",
    "process_files(input_folder, output_folder)"
   ]
  },
  {
   "cell_type": "code",
   "execution_count": 90,
   "id": "87eb63a8",
   "metadata": {},
   "outputs": [],
   "source": [
    "df = pd.read_csv(r\"E:\\PYTHON\\PROJETOS_PESSOAIS\\analise_weg\\_03_ANALISE_EXPLORATORIA\\_03_02_DATASETS_PIVOTADOS\\Balanço Patrimonial (BP)_rotacionado.csv\")"
   ]
  },
  {
   "cell_type": "code",
   "execution_count": null,
   "id": "059006eb",
   "metadata": {},
   "outputs": [],
   "source": [
    "df.head(100)  # Exibir as primeiras linhas do DataFrame para verificação"
   ]
  }
 ],
 "metadata": {
  "kernelspec": {
   "display_name": ".venv_windows",
   "language": "python",
   "name": "python3"
  },
  "language_info": {
   "codemirror_mode": {
    "name": "ipython",
    "version": 3
   },
   "file_extension": ".py",
   "mimetype": "text/x-python",
   "name": "python",
   "nbconvert_exporter": "python",
   "pygments_lexer": "ipython3",
   "version": "3.12.10"
  }
 },
 "nbformat": 4,
 "nbformat_minor": 5
}
