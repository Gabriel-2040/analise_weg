{
 "cells": [
  {
   "cell_type": "code",
   "execution_count": 7,
   "id": "f20835d2",
   "metadata": {},
   "outputs": [],
   "source": [
    "import pandas as pd\n",
    "import os\n",
    "import sys\n",
    "from pathlib import Path  # Melhor forma para trabalhar com caminhos\n",
    "from unidecode import unidecode\n"
   ]
  },
  {
   "cell_type": "markdown",
   "id": "e7c82e65",
   "metadata": {},
   "source": [
    "### Convertendo xlsx para csv\n"
   ]
  },
  {
   "cell_type": "code",
   "execution_count": 10,
   "id": "f09eb8cb",
   "metadata": {},
   "outputs": [
    {
     "name": "stdout",
     "output_type": "stream",
     "text": [
      "Convertido: Balanço Patrimonial (BP).xlsx\n",
      "Convertido: Demonstração de Fluxo de Caixa (DFC).xlsx\n",
      "Convertido: Demonstração de Resultados (DRE).xlsx\n"
     ]
    }
   ],
   "source": [
    "pasta_origem = r'E:\\PYTHON\\PROJETOS_PESSOAIS\\analise_weg\\_02_DATASETS\\datasets_original'\n",
    "pasta_destino = r\"E:\\PYTHON\\PROJETOS_PESSOAIS\\analise_weg\\_03_ANALISE_EXPLORATORIA\\_03_02_analises_01\"\n",
    "\n",
    "for arquivo in os.listdir(pasta_origem):\n",
    "    if arquivo.endswith('.xlsx'):\n",
    "        entrada = os.path.join(pasta_origem, arquivo)\n",
    "        saida = os.path.join(pasta_destino, arquivo.replace('.xlsx', '.csv'))\n",
    "        try:\n",
    "            df = pd.read_excel(entrada, header=1, engine='openpyxl')\n",
    "            df.to_csv(saida, index=False)\n",
    "            print(f\"Convertido: {arquivo}\")\n",
    "        except Exception as e:\n",
    "            print(f\"Erro ao converter {arquivo}: {e}\")\n"
   ]
  },
  {
   "cell_type": "markdown",
   "id": "e84f5cba",
   "metadata": {},
   "source": [
    "### Pivotando arquivos CSV"
   ]
  },
  {
   "cell_type": "code",
   "execution_count": 12,
   "id": "9b34770a",
   "metadata": {},
   "outputs": [
    {
     "name": "stderr",
     "output_type": "stream",
     "text": [
      "<>:48: SyntaxWarning: invalid escape sequence '\\_'\n",
      "<>:48: SyntaxWarning: invalid escape sequence '\\_'\n",
      "C:\\Users\\gabri\\AppData\\Local\\Temp\\ipykernel_15220\\1930069054.py:48: SyntaxWarning: invalid escape sequence '\\_'\n",
      "  input_folder = base_dir / \"_03_ANALISE_EXPLORATORIA\\_03_02_analises_01\"\n"
     ]
    },
    {
     "name": "stdout",
     "output_type": "stream",
     "text": [
      "Arquivo Balanço Patrimonial (BP).csv processado com sucesso! Salvo como Balanço Patrimonial (BP)_rotacionado.csv\n",
      "    Código da Conta Descrição da Conta                 data  valor\n",
      "44                                 NaN  2010-03-31 00:00:00    0.0\n",
      "45                                 NaN  2010-03-31 00:00:00    0.0\n",
      "153                                NaN  2010-06-30 00:00:00    0.0\n",
      "154                                NaN  2010-06-30 00:00:00    0.0\n",
      "262                                NaN  2010-09-30 00:00:00    0.0\n",
      "Arquivo Demonstração de Fluxo de Caixa (DFC).csv processado com sucesso! Salvo como Demonstração de Fluxo de Caixa (DFC)_rotacionado.csv\n",
      "    Código da Conta                     Descrição da Conta  \\\n",
      "0              6.01  Caixa Líquido Atividades Operacionais   \n",
      "58             6.01  Caixa Líquido Atividades Operacionais   \n",
      "116            6.01  Caixa Líquido Atividades Operacionais   \n",
      "174            6.01  Caixa Líquido Atividades Operacionais   \n",
      "232            6.01  Caixa Líquido Atividades Operacionais   \n",
      "\n",
      "                    data     valor  \n",
      "0    2010-03-31 00:00:00  150487.0  \n",
      "58   2010-06-30 00:00:00  431882.0  \n",
      "116  2010-09-30 00:00:00  420330.0  \n",
      "174  2010-12-31 00:00:00  653442.0  \n",
      "232  2011-03-31 00:00:00  189204.0  \n",
      "Arquivo Demonstração de Resultados (DRE).csv processado com sucesso! Salvo como Demonstração de Resultados (DRE)_rotacionado.csv\n",
      "    Código da Conta                      Descrição da Conta  \\\n",
      "0              3.01  Receita de Venda de Bens e/ou Serviços   \n",
      "36             3.01  Receita de Venda de Bens e/ou Serviços   \n",
      "72             3.01  Receita de Venda de Bens e/ou Serviços   \n",
      "108            3.01  Receita de Venda de Bens e/ou Serviços   \n",
      "144            3.01  Receita de Venda de Bens e/ou Serviços   \n",
      "\n",
      "                    data      valor  \n",
      "0    2010-03-31 00:00:00   931907.0  \n",
      "36   2010-06-30 00:00:00  1013015.0  \n",
      "72   2010-09-30 00:00:00  1188622.0  \n",
      "108  2010-12-31 00:00:00  1258429.0  \n",
      "144  2011-03-31 00:00:00  1126117.0  \n",
      "Erro ao processar o arquivo histórico.csv: Error tokenizing data. C error: Expected 1 fields in line 3, saw 2\n",
      "\n"
     ]
    }
   ],
   "source": [
    "\n",
    "\n",
    "def process_files(input_folder, output_folder):\n",
    "    \"\"\"Processa todos os arquivos CSV na pasta de entrada e salva na pasta de saída\"\"\"\n",
    "    # Garante que a pasta de saída existe\n",
    "    Path(output_folder).mkdir(parents=True, exist_ok=True)\n",
    "    \n",
    "\n",
    "    for arquivo in os.listdir(input_folder):\n",
    "        if arquivo.endswith('.csv') or arquivo.endswith('.xlsx'):\n",
    "            try:\n",
    "                nome = os.path.splitext(arquivo)[0]\n",
    "                file_path = os.path.join(input_folder, arquivo)\n",
    "                #trasnformar arquivo para csv e retirar a prima linha\n",
    "                if arquivo.endswith('.xlsx'):\n",
    "                    df = pd.read_excel(file_path, header=1)\n",
    "                    #cria um  nome temporário para o CSV\n",
    "                    temp_csv_path = os.path.join(input_folder, f\"temp_{nome}.csv\")\n",
    "                    df.to_csv(temp_csv_path, index=False, encoding='utf-8')\n",
    "                    file_path = temp_csv_path\n",
    "                # Ler o CSV\n",
    "                df = pd.read_csv(file_path, encoding='utf-8')\n",
    "                \n",
    "                # Transformar de wide para long\n",
    "                df_long = df.melt(\n",
    "                    id_vars=['Código da Conta','Descrição da Conta'],\n",
    "                    var_name='data',\n",
    "                    value_name='valor'\n",
    "                )\n",
    "           \n",
    "                # Tratamento de nulos\n",
    "                df_long = df_long.assign(valor =lambda x: x['valor'].fillna(0))\n",
    "                                        \n",
    "                # Ordenação\n",
    "                df_long = df_long.sort_values(['Código da Conta','data'])\n",
    "                \n",
    "                # Salvar arquivo processado\n",
    "                output_file = f\"{nome}_rotacionado.csv\"\n",
    "                output_path = os.path.join(output_folder, output_file)\n",
    "                df_long.to_csv(output_path, index=False, encoding='utf-8')\n",
    "                \n",
    "                print(f\"Arquivo {arquivo} processado com sucesso! Salvo como {output_file}\")\n",
    "                print(df_long.head())\n",
    "                \n",
    "            except Exception as e:\n",
    "                print(f\"Erro ao processar o arquivo {arquivo}: {str(e)}\")\n",
    "\n",
    "# Configuração dos caminhos (usando Path para compatibilidade entre sistemas)\n",
    "base_dir = Path(r\"E:\\PYTHON\\PROJETOS_PESSOAIS\\analise_weg\")\n",
    "input_folder = base_dir / \"_03_ANALISE_EXPLORATORIA\\_03_02_analises_01\"\n",
    "output_folder = base_dir / \"_04_ETL/datasets_pivotados\"\n",
    "\n",
    "# Executar o processamento\n",
    "process_files(input_folder, output_folder)"
   ]
  },
  {
   "cell_type": "code",
   "execution_count": 22,
   "id": "87eb63a8",
   "metadata": {},
   "outputs": [],
   "source": [
    "df = pd.read_csv(r\"E:\\PYTHON\\PROJETOS_PESSOAIS\\analise_weg\\_04_ETL\\datasets_pivotados\\Balanço Patrimonial (BP)_rotacionado.csv\")"
   ]
  },
  {
   "cell_type": "code",
   "execution_count": 23,
   "id": "059006eb",
   "metadata": {},
   "outputs": [
    {
     "data": {
      "application/vnd.microsoft.datawrangler.viewer.v0+json": {
       "columns": [
        {
         "name": "index",
         "rawType": "int64",
         "type": "integer"
        },
        {
         "name": "Código da Conta",
         "rawType": "object",
         "type": "string"
        },
        {
         "name": "Descrição da Conta",
         "rawType": "object",
         "type": "unknown"
        },
        {
         "name": "data",
         "rawType": "object",
         "type": "string"
        },
        {
         "name": "valor",
         "rawType": "float64",
         "type": "float"
        }
       ],
       "ref": "a85ef80d-d45c-4eec-bb9f-557b55da2175",
       "rows": [
        [
         "0",
         " ",
         null,
         "2010-03-31 00:00:00",
         "0.0"
        ],
        [
         "1",
         " ",
         null,
         "2010-03-31 00:00:00",
         "0.0"
        ],
        [
         "2",
         " ",
         null,
         "2010-06-30 00:00:00",
         "0.0"
        ],
        [
         "3",
         " ",
         null,
         "2010-06-30 00:00:00",
         "0.0"
        ],
        [
         "4",
         " ",
         null,
         "2010-09-30 00:00:00",
         "0.0"
        ],
        [
         "5",
         " ",
         null,
         "2010-09-30 00:00:00",
         "0.0"
        ],
        [
         "6",
         " ",
         null,
         "2010-12-31 00:00:00",
         "0.0"
        ],
        [
         "7",
         " ",
         null,
         "2010-12-31 00:00:00",
         "0.0"
        ],
        [
         "8",
         " ",
         null,
         "2011-03-31 00:00:00",
         "0.0"
        ],
        [
         "9",
         " ",
         null,
         "2011-03-31 00:00:00",
         "0.0"
        ],
        [
         "10",
         " ",
         null,
         "2011-06-30 00:00:00",
         "0.0"
        ],
        [
         "11",
         " ",
         null,
         "2011-06-30 00:00:00",
         "0.0"
        ],
        [
         "12",
         " ",
         null,
         "2011-09-30 00:00:00",
         "0.0"
        ],
        [
         "13",
         " ",
         null,
         "2011-09-30 00:00:00",
         "0.0"
        ],
        [
         "14",
         " ",
         null,
         "2011-12-31 00:00:00",
         "0.0"
        ],
        [
         "15",
         " ",
         null,
         "2011-12-31 00:00:00",
         "0.0"
        ],
        [
         "16",
         " ",
         null,
         "2012-03-31 00:00:00",
         "0.0"
        ],
        [
         "17",
         " ",
         null,
         "2012-03-31 00:00:00",
         "0.0"
        ],
        [
         "18",
         " ",
         null,
         "2012-06-30 00:00:00",
         "0.0"
        ],
        [
         "19",
         " ",
         null,
         "2012-06-30 00:00:00",
         "0.0"
        ],
        [
         "20",
         " ",
         null,
         "2012-09-30 00:00:00",
         "0.0"
        ],
        [
         "21",
         " ",
         null,
         "2012-09-30 00:00:00",
         "0.0"
        ],
        [
         "22",
         " ",
         null,
         "2012-12-31 00:00:00",
         "0.0"
        ],
        [
         "23",
         " ",
         null,
         "2012-12-31 00:00:00",
         "0.0"
        ],
        [
         "24",
         " ",
         null,
         "2013-03-31 00:00:00",
         "0.0"
        ],
        [
         "25",
         " ",
         null,
         "2013-03-31 00:00:00",
         "0.0"
        ],
        [
         "26",
         " ",
         null,
         "2013-06-30 00:00:00",
         "0.0"
        ],
        [
         "27",
         " ",
         null,
         "2013-06-30 00:00:00",
         "0.0"
        ],
        [
         "28",
         " ",
         null,
         "2013-09-30 00:00:00",
         "0.0"
        ],
        [
         "29",
         " ",
         null,
         "2013-09-30 00:00:00",
         "0.0"
        ],
        [
         "30",
         " ",
         null,
         "2013-12-31 00:00:00",
         "0.0"
        ],
        [
         "31",
         " ",
         null,
         "2013-12-31 00:00:00",
         "0.0"
        ],
        [
         "32",
         " ",
         null,
         "2014-03-31 00:00:00",
         "0.0"
        ],
        [
         "33",
         " ",
         null,
         "2014-03-31 00:00:00",
         "0.0"
        ],
        [
         "34",
         " ",
         null,
         "2014-06-30 00:00:00",
         "0.0"
        ],
        [
         "35",
         " ",
         null,
         "2014-06-30 00:00:00",
         "0.0"
        ],
        [
         "36",
         " ",
         null,
         "2014-09-30 00:00:00",
         "0.0"
        ],
        [
         "37",
         " ",
         null,
         "2014-09-30 00:00:00",
         "0.0"
        ],
        [
         "38",
         " ",
         null,
         "2014-12-31 00:00:00",
         "0.0"
        ],
        [
         "39",
         " ",
         null,
         "2014-12-31 00:00:00",
         "0.0"
        ],
        [
         "40",
         " ",
         null,
         "2015-03-31 00:00:00",
         "0.0"
        ],
        [
         "41",
         " ",
         null,
         "2015-03-31 00:00:00",
         "0.0"
        ],
        [
         "42",
         " ",
         null,
         "2015-06-30 00:00:00",
         "0.0"
        ],
        [
         "43",
         " ",
         null,
         "2015-06-30 00:00:00",
         "0.0"
        ],
        [
         "44",
         " ",
         null,
         "2015-09-30 00:00:00",
         "0.0"
        ],
        [
         "45",
         " ",
         null,
         "2015-09-30 00:00:00",
         "0.0"
        ],
        [
         "46",
         " ",
         null,
         "2015-12-31 00:00:00",
         "0.0"
        ],
        [
         "47",
         " ",
         null,
         "2015-12-31 00:00:00",
         "0.0"
        ],
        [
         "48",
         " ",
         null,
         "2016-03-31 00:00:00",
         "0.0"
        ],
        [
         "49",
         " ",
         null,
         "2016-03-31 00:00:00",
         "0.0"
        ]
       ],
       "shape": {
        "columns": 4,
        "rows": 100
       }
      },
      "text/html": [
       "<div>\n",
       "<style scoped>\n",
       "    .dataframe tbody tr th:only-of-type {\n",
       "        vertical-align: middle;\n",
       "    }\n",
       "\n",
       "    .dataframe tbody tr th {\n",
       "        vertical-align: top;\n",
       "    }\n",
       "\n",
       "    .dataframe thead th {\n",
       "        text-align: right;\n",
       "    }\n",
       "</style>\n",
       "<table border=\"1\" class=\"dataframe\">\n",
       "  <thead>\n",
       "    <tr style=\"text-align: right;\">\n",
       "      <th></th>\n",
       "      <th>Código da Conta</th>\n",
       "      <th>Descrição da Conta</th>\n",
       "      <th>data</th>\n",
       "      <th>valor</th>\n",
       "    </tr>\n",
       "  </thead>\n",
       "  <tbody>\n",
       "    <tr>\n",
       "      <th>0</th>\n",
       "      <td></td>\n",
       "      <td>NaN</td>\n",
       "      <td>2010-03-31 00:00:00</td>\n",
       "      <td>0.0</td>\n",
       "    </tr>\n",
       "    <tr>\n",
       "      <th>1</th>\n",
       "      <td></td>\n",
       "      <td>NaN</td>\n",
       "      <td>2010-03-31 00:00:00</td>\n",
       "      <td>0.0</td>\n",
       "    </tr>\n",
       "    <tr>\n",
       "      <th>2</th>\n",
       "      <td></td>\n",
       "      <td>NaN</td>\n",
       "      <td>2010-06-30 00:00:00</td>\n",
       "      <td>0.0</td>\n",
       "    </tr>\n",
       "    <tr>\n",
       "      <th>3</th>\n",
       "      <td></td>\n",
       "      <td>NaN</td>\n",
       "      <td>2010-06-30 00:00:00</td>\n",
       "      <td>0.0</td>\n",
       "    </tr>\n",
       "    <tr>\n",
       "      <th>4</th>\n",
       "      <td></td>\n",
       "      <td>NaN</td>\n",
       "      <td>2010-09-30 00:00:00</td>\n",
       "      <td>0.0</td>\n",
       "    </tr>\n",
       "    <tr>\n",
       "      <th>...</th>\n",
       "      <td>...</td>\n",
       "      <td>...</td>\n",
       "      <td>...</td>\n",
       "      <td>...</td>\n",
       "    </tr>\n",
       "    <tr>\n",
       "      <th>95</th>\n",
       "      <td></td>\n",
       "      <td>NaN</td>\n",
       "      <td>2021-12-31 00:00:00</td>\n",
       "      <td>0.0</td>\n",
       "    </tr>\n",
       "    <tr>\n",
       "      <th>96</th>\n",
       "      <td></td>\n",
       "      <td>NaN</td>\n",
       "      <td>2022-03-31 00:00:00</td>\n",
       "      <td>0.0</td>\n",
       "    </tr>\n",
       "    <tr>\n",
       "      <th>97</th>\n",
       "      <td></td>\n",
       "      <td>NaN</td>\n",
       "      <td>2022-03-31 00:00:00</td>\n",
       "      <td>0.0</td>\n",
       "    </tr>\n",
       "    <tr>\n",
       "      <th>98</th>\n",
       "      <td></td>\n",
       "      <td>NaN</td>\n",
       "      <td>2022-06-30 00:00:00</td>\n",
       "      <td>0.0</td>\n",
       "    </tr>\n",
       "    <tr>\n",
       "      <th>99</th>\n",
       "      <td></td>\n",
       "      <td>NaN</td>\n",
       "      <td>2022-06-30 00:00:00</td>\n",
       "      <td>0.0</td>\n",
       "    </tr>\n",
       "  </tbody>\n",
       "</table>\n",
       "<p>100 rows × 4 columns</p>\n",
       "</div>"
      ],
      "text/plain": [
       "   Código da Conta Descrição da Conta                 data  valor\n",
       "0                                 NaN  2010-03-31 00:00:00    0.0\n",
       "1                                 NaN  2010-03-31 00:00:00    0.0\n",
       "2                                 NaN  2010-06-30 00:00:00    0.0\n",
       "3                                 NaN  2010-06-30 00:00:00    0.0\n",
       "4                                 NaN  2010-09-30 00:00:00    0.0\n",
       "..             ...                ...                  ...    ...\n",
       "95                                NaN  2021-12-31 00:00:00    0.0\n",
       "96                                NaN  2022-03-31 00:00:00    0.0\n",
       "97                                NaN  2022-03-31 00:00:00    0.0\n",
       "98                                NaN  2022-06-30 00:00:00    0.0\n",
       "99                                NaN  2022-06-30 00:00:00    0.0\n",
       "\n",
       "[100 rows x 4 columns]"
      ]
     },
     "execution_count": 23,
     "metadata": {},
     "output_type": "execute_result"
    }
   ],
   "source": [
    "df.head(100)  # Exibir as primeiras linhas do DataFrame para verificação"
   ]
  },
  {
   "cell_type": "markdown",
   "id": "8deee1c0",
   "metadata": {},
   "source": [
    "### Alterar cabeçalhos para maiúsculas e substituir espaços por underline"
   ]
  },
  {
   "cell_type": "code",
   "execution_count": 8,
   "id": "723c2ae4",
   "metadata": {},
   "outputs": [
    {
     "name": "stdout",
     "output_type": "stream",
     "text": [
      "Convertido: Balanço Patrimonial (BP)_rotacionado.csv\n",
      "Convertido: Demonstração de Fluxo de Caixa (DFC)_rotacionado.csv\n",
      "Convertido: Demonstração de Resultados (DRE)_rotacionado.csv\n"
     ]
    }
   ],
   "source": [
    "pasta_origem = r'E:\\PYTHON\\PROJETOS_PESSOAIS\\analise_weg\\_04_ETL\\datasets_pivotados'\n",
    "pasta_destino = r\"E:\\PYTHON\\PROJETOS_PESSOAIS\\analise_weg\\_04_ETL\\_04_01_dataset_convertido\"\n",
    "\n",
    "for arquivo in os.listdir(pasta_origem):\n",
    "    if arquivo.endswith('.csv'):\n",
    "        entrada = os.path.join(pasta_origem, arquivo)\n",
    "        saida = os.path.join(pasta_destino, arquivo)\n",
    "        try:\n",
    "            df = pd.read_csv(entrada, encoding='utf-8')\n",
    "            df.columns = [unidecode(str(col)).upper().replace(' ', '_') for col in df.columns]\n",
    "            df.to_csv(saida, index=False)\n",
    "            print(f\"Convertido: {arquivo}\")\n",
    "        except Exception as e:\n",
    "            print(f\"Erro ao converter {arquivo}: {e}\")"
   ]
  }
 ],
 "metadata": {
  "kernelspec": {
   "display_name": ".venv_windows",
   "language": "python",
   "name": "python3"
  },
  "language_info": {
   "codemirror_mode": {
    "name": "ipython",
    "version": 3
   },
   "file_extension": ".py",
   "mimetype": "text/x-python",
   "name": "python",
   "nbconvert_exporter": "python",
   "pygments_lexer": "ipython3",
   "version": "3.12.10"
  }
 },
 "nbformat": 4,
 "nbformat_minor": 5
}
