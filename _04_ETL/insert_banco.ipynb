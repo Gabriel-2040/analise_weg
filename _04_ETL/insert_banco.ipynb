{
 "cells": [
  {
   "cell_type": "code",
   "execution_count": null,
   "id": "83934acc",
   "metadata": {},
   "outputs": [],
   "source": [
    "import sys\n",
    "import os\n",
    "import csv\n",
    "import psycopg2\n",
    "import conectar_banco\n",
    "import fechar_conexao"
   ]
  },
  {
   "cell_type": "code",
   "execution_count": null,
   "id": "986355df",
   "metadata": {},
   "outputs": [],
   "source": [
    "\n",
    "def criar_tabela_full():\n",
    "    conexao, cursor = conectar_banco()\n",
    "    if not conexao:\n",
    "        return False\n",
    "    \n",
    "    try:     \n",
    "        # Comando SQL para criação da tabela (caso não exista)\n",
    "        create_table_query = \"\"\"\n",
    "        CREATE TABLE IF NOT EXISTS datawarehouse.dim_regiao (\n",
    "            id_regiao SERIAL PRIMARY KEY,\n",
    "            nome_regiao VARCHAR(50) NOT NULL,\n",
    "            sigla_regiao VARCHAR(2) NOT NULL,\n",
    "            UNIQUE(nome_regiao, sigla_regiao)\n",
    "        )\n",
    "        \"\"\"\n",
    "        cursor.execute(create_table_query)\n",
    "        conexao.commit()\n",
    "        \n",
    "        # Inserindo cada região\n",
    "        for regiao in regioes:\n",
    "            insert_query = \"\"\"\n",
    "            INSERT INTO datawarehouse.dim_regiao (nome_regiao, sigla_regiao)\n",
    "            VALUES (%s, %s)\n",
    "            \"\"\"\n",
    "            cursor.execute(insert_query, (regiao['nome'], regiao['sigla']))\n",
    "        \n",
    "        conexao.commit()\n",
    "        return True\n",
    "        \n",
    "    except Exception as e:\n",
    "        print(f\"Erro: {e}\")\n",
    "        conexao.rollback()\n",
    "        return False\n",
    "    finally:\n",
    "        fechar_conexao(conexao, cursor)\n",
    "\n",
    "if __name__ == \"__main__\":\n",
    "    if importar_regioes():\n",
    "        print(\"Regiões importadas com sucesso!\")\n",
    "    else:\n",
    "        print(\"Falha na importação das regiões\")"
   ]
  }
 ],
 "metadata": {
  "kernelspec": {
   "display_name": ".venv_windows",
   "language": "python",
   "name": "python3"
  },
  "language_info": {
   "codemirror_mode": {
    "name": "ipython",
    "version": 3
   },
   "file_extension": ".py",
   "mimetype": "text/x-python",
   "name": "python",
   "nbconvert_exporter": "python",
   "pygments_lexer": "ipython3",
   "version": "3.12.10"
  }
 },
 "nbformat": 4,
 "nbformat_minor": 5
}
