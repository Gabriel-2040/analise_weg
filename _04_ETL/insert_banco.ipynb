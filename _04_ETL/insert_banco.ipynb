{
 "cells": [
  {
   "cell_type": "code",
   "execution_count": 7,
   "id": "423b6bba",
   "metadata": {},
   "outputs": [
    {
     "name": "stdout",
     "output_type": "stream",
     "text": [
      "Collecting unidecode\n",
      "  Downloading Unidecode-1.4.0-py3-none-any.whl.metadata (13 kB)\n",
      "Downloading Unidecode-1.4.0-py3-none-any.whl (235 kB)\n",
      "Installing collected packages: unidecode\n",
      "Successfully installed unidecode-1.4.0\n"
     ]
    },
    {
     "name": "stderr",
     "output_type": "stream",
     "text": [
      "\n",
      "[notice] A new release of pip is available: 25.0.1 -> 25.1.1\n",
      "[notice] To update, run: python.exe -m pip install --upgrade pip\n"
     ]
    }
   ],
   "source": [
    "# !pip install unidecode"
   ]
  },
  {
   "cell_type": "code",
   "execution_count": 8,
   "id": "83934acc",
   "metadata": {},
   "outputs": [],
   "source": [
    "import sys\n",
    "import os\n",
    "import csv\n",
    "import psycopg2\n",
    "from pathlib import Path\n",
    "caminho_funcoes = r'E:\\PYTHON\\PROJETOS_PESSOAIS\\analise_weg\\_04_ETL\\funcoes'\n",
    "sys.path.append(caminho_funcoes)\n",
    "from conectar_banco import conectar_banco\n",
    "from fechar_conexao import fechar_conexao\n",
    "import pandas as pd\n",
    "from unidecode import unidecode"
   ]
  },
  {
   "cell_type": "markdown",
   "id": "d997b698",
   "metadata": {},
   "source": [
    "## ESTRUTURA DOS CSV\n",
    "\n",
    "---\n",
    "\n",
    "#### Balanço Patrimonial (BP)_rotacionado\n",
    "\n",
    "|  # |nome coluna|valores|tipo|\n",
    "|----|--------------------|---------------|----------|\n",
    "| 0  | Código da Conta    | 6649 non-null |   object | \n",
    "| 1  | Descrição da Conta | 6527 non-null |  object  |\n",
    "| 2  | data               | 6649 non-null |  object  |\n",
    "| 3  | valor              |6649 non-null  | float64  | \n",
    "\n",
    "\n",
    "#### Demonstração de Fluxo de Caixa (DFC)_rotacionado\n",
    "|#|nome coluna|valores|tipo|\n",
    "|----|--------------------|---------------|----------|\n",
    "| 0  | Código da Conta    | 3410 non-null |  object  |\n",
    "| 1  |Descrição da Conta  | 3596 non-null |  object  |\n",
    "| 2  | data               | 3596 non-null |  object  | \n",
    "| 3  | valor              | 3596 non-null |  float64 |\n",
    "\n",
    "\n",
    "#### Demonstração de Resultados (DRE)_rotacionado\n",
    "\n",
    "|--#--|nome coluna--------|----valores----|---tipo---|\n",
    "|----|--------------------|---------------|----------|\n",
    "| 0  | Código da Conta    | 1891 non-null |  object  |\n",
    "| 1  | Descrição da Conta | 1952 non-null |  object  |\n",
    "| 2  | data               | 2196 non-null |  object  |\n",
    "| 3  | valor              | 2196 non-null |  float64 |\n",
    "\n",
    "\n",
    "\n",
    "\n",
    "\n"
   ]
  },
  {
   "cell_type": "code",
   "execution_count": null,
   "id": "986355df",
   "metadata": {},
   "outputs": [
    {
     "name": "stdout",
     "output_type": "stream",
     "text": [
      "Conexão estabelecida com sucesso!\n",
      "Erro: 'CODIGO_DA_CONTA'\n",
      "Conexão fechada com sucesso!\n",
      "Falha na importação\n"
     ]
    }
   ],
   "source": [
    "df = pd.read_csv(r'E:\\PYTHON\\PROJETOS_PESSOAIS\\analise_weg\\_04_ETL\\datasets_pivotados\\Balanço Patrimonial (BP)_rotacionado.csv', sep=',', encoding='latin1')\n",
    "def criar_tabela_full():\n",
    "    conexao, cursor = conectar_banco()\n",
    "    if not conexao:\n",
    "        return False\n",
    "    \n",
    "    try:     \n",
    "        # Comando SQL para criação da tabela (caso não exista)\n",
    "        create_table_query = \"\"\"\n",
    "        CREATE TABLE IF NOT EXISTS balanco_patrimonial (\n",
    "            codigo_conta  VARCHAR(50),\n",
    "            descricao_conta VARCHAR(50),\n",
    "            data varchar (50),\n",
    "            valor NUMERIC NOT NULL\n",
    "        )\n",
    "        \"\"\"\n",
    "        cursor.execute(create_table_query)\n",
    "        conexao.commit()\n",
    "        \n",
    "        # Inserindo cada região\n",
    "        for _, row in df.iterrows():\n",
    "            insert_query = \"\"\"\n",
    "            INSERT INTO balanco_patrimonial (codigo_conta, descricao_conta, data, valor)\n",
    "            VALUES (%s, %s,%s,%s)\n",
    "            \"\"\"\n",
    "            cursor.execute(insert_query, (row['CODIGO_DA_CONTA'], row['DESCRICAO_DA_CONTA'],\n",
    "                                          row['DATA'], row['VALOR']))\n",
    "            \n",
    "        \n",
    "        conexao.commit()\n",
    "        return True\n",
    "        \n",
    "    except Exception as e:\n",
    "        print(f\"Erro: {e}\")\n",
    "        conexao.rollback()\n",
    "        return False\n",
    "    finally:\n",
    "        fechar_conexao(conexao, cursor)\n",
    "\n",
    "if __name__ == \"__main__\":\n",
    "    if criar_tabela_full():\n",
    "        print(\"Importadas com sucesso!\")\n",
    "    else:\n",
    "        print(\"Falha na importação\")"
   ]
  }
 ],
 "metadata": {
  "kernelspec": {
   "display_name": ".venv_windows",
   "language": "python",
   "name": "python3"
  },
  "language_info": {
   "codemirror_mode": {
    "name": "ipython",
    "version": 3
   },
   "file_extension": ".py",
   "mimetype": "text/x-python",
   "name": "python",
   "nbconvert_exporter": "python",
   "pygments_lexer": "ipython3",
   "version": "3.12.10"
  }
 },
 "nbformat": 4,
 "nbformat_minor": 5
}
